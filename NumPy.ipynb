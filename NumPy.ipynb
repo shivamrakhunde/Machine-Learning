{
 "cells": [
  {
   "cell_type": "code",
   "execution_count": 87,
   "id": "17837db8-965d-4949-b829-266439cdfdfd",
   "metadata": {},
   "outputs": [],
   "source": [
    "import numpy as np"
   ]
  },
  {
   "cell_type": "markdown",
   "id": "40802569-3713-45e8-a9ed-79943928f5b9",
   "metadata": {},
   "source": [
    "# Creating Array:"
   ]
  },
  {
   "cell_type": "code",
   "execution_count": 88,
   "id": "3a4ed48a-38dc-4cda-b0ac-f9a6732ece8a",
   "metadata": {},
   "outputs": [
    {
     "name": "stdout",
     "output_type": "stream",
     "text": [
      "42\n"
     ]
    }
   ],
   "source": [
    "# 0D array\n",
    "arr=np.array(42)\n",
    "print(arr)"
   ]
  },
  {
   "cell_type": "code",
   "execution_count": 89,
   "id": "b21a46a9-59b6-4755-80f7-2d01fda44a5d",
   "metadata": {},
   "outputs": [
    {
     "name": "stdout",
     "output_type": "stream",
     "text": [
      "[1 2 3 4 5 6]\n"
     ]
    }
   ],
   "source": [
    "# 1D array\n",
    "arr=np.array([1,2,3,4,5,6])\n",
    "print(arr)"
   ]
  },
  {
   "cell_type": "code",
   "execution_count": 90,
   "id": "15d07ce0-0a03-4ff9-a508-ce15057943f0",
   "metadata": {},
   "outputs": [
    {
     "name": "stdout",
     "output_type": "stream",
     "text": [
      "[[1 2 3]\n",
      " [4 5 6]]\n"
     ]
    }
   ],
   "source": [
    "# 2D array\n",
    "arr=np.array([[1,2,3],[4,5,6]])\n",
    "print(arr)"
   ]
  },
  {
   "cell_type": "code",
   "execution_count": 91,
   "id": "1796b00d-4a6a-4d27-acf9-13347bfd1c78",
   "metadata": {},
   "outputs": [
    {
     "name": "stdout",
     "output_type": "stream",
     "text": [
      "[[[1 2 3]\n",
      "  [4 5 6]]\n",
      "\n",
      " [[1 2 3]\n",
      "  [4 5 6]]]\n"
     ]
    }
   ],
   "source": [
    "# 3D array\n",
    "arr=np.array([[[1,2,3],[4,5,6]],[[1,2,3],[4,5,6]]])\n",
    "print(arr)"
   ]
  },
  {
   "cell_type": "code",
   "execution_count": 92,
   "id": "0f53638f-90ad-44e5-a011-87a12661bd1a",
   "metadata": {},
   "outputs": [
    {
     "name": "stdout",
     "output_type": "stream",
     "text": [
      "0\n",
      "1\n",
      "2\n",
      "3\n"
     ]
    }
   ],
   "source": [
    "# Check Dimensions\n",
    "a = np.array(42)\n",
    "b = np.array([1, 2, 3, 4, 5])\n",
    "c = np.array([[1, 2, 3], [4, 5, 6]])\n",
    "d = np.array([[[1, 2, 3], [4, 5, 6]], [[1, 2, 3], [4, 5, 6]]])\n",
    "\n",
    "print(a.ndim)\n",
    "print(b.ndim)\n",
    "print(c.ndim)\n",
    "print(d.ndim)"
   ]
  },
  {
   "cell_type": "code",
   "execution_count": 93,
   "id": "0300fa8f-5a84-4ced-a502-04543b276f6b",
   "metadata": {},
   "outputs": [
    {
     "name": "stdout",
     "output_type": "stream",
     "text": [
      "[[[[[1 2 3 4]]]]]\n",
      "5\n"
     ]
    }
   ],
   "source": [
    "arr = np.array([1, 2, 3, 4], ndmin=5)\n",
    "print(arr)\n",
    "print(arr.ndim)"
   ]
  },
  {
   "cell_type": "markdown",
   "id": "00d57062-55bf-4704-a2d5-fc74268398b4",
   "metadata": {},
   "source": [
    "# Accessing array elements: "
   ]
  },
  {
   "cell_type": "code",
   "execution_count": 94,
   "id": "da4ec4f4-f400-40e1-a0d7-6999f6d15c99",
   "metadata": {},
   "outputs": [
    {
     "name": "stdout",
     "output_type": "stream",
     "text": [
      "5\n",
      "9\n"
     ]
    }
   ],
   "source": [
    "# 1D Array\n",
    "nums=np.array([1,2,3,4,5])\n",
    "print(nums[1]+nums[2])\n",
    "\n",
    "# Last element => negative index\n",
    "print(nums[-2]+nums[-1])"
   ]
  },
  {
   "cell_type": "code",
   "execution_count": 95,
   "id": "85edc823-489b-4271-a5e0-955cfde18f26",
   "metadata": {},
   "outputs": [
    {
     "name": "stdout",
     "output_type": "stream",
     "text": [
      "9\n",
      "10\n"
     ]
    }
   ],
   "source": [
    "# 2D Array\n",
    "nums=np.array([[1,2,3,4,5],[6,7,8,9,10]])\n",
    "print(nums[1,3])\n",
    "\n",
    "# Last element => negative index\n",
    "print(nums[1,-1]) "
   ]
  },
  {
   "cell_type": "code",
   "execution_count": 96,
   "id": "72cfca67-2d12-471d-8c49-3a2f8812d562",
   "metadata": {},
   "outputs": [
    {
     "name": "stdout",
     "output_type": "stream",
     "text": [
      "[[[  1   2   3]\n",
      "  [  4   5   6]]\n",
      "\n",
      " [[ 10  20  30]\n",
      "  [100 200 300]]]\n",
      "\n",
      "Ans: 30\n"
     ]
    }
   ],
   "source": [
    "# 3D Array\n",
    "nums=np.array([[[1,2,3],[4,5,6]],[[10,20,30],[100,200,300]]])\n",
    "print(nums)\n",
    "print(\"\\nAns:\",nums[1,0,2])"
   ]
  },
  {
   "cell_type": "markdown",
   "id": "55f2fe01-ed23-4dd0-8e05-097694f06d6f",
   "metadata": {},
   "source": [
    "# Array Slicing:"
   ]
  },
  {
   "cell_type": "code",
   "execution_count": 97,
   "id": "03194573-c520-4239-bfd1-bcecea65748e",
   "metadata": {},
   "outputs": [
    {
     "name": "stdout",
     "output_type": "stream",
     "text": [
      "[1 2 3 4]\n",
      "[5 6 7]\n",
      "[1 2 3 4 5]\n",
      "[1 3 5]\n"
     ]
    }
   ],
   "source": [
    "# 1D Array\n",
    "v=np.array([1,2,3,4,5,6,7])\n",
    "print(v[:4])\n",
    "print(v[4:])\n",
    "print(v[:-2])\n",
    "\n",
    "# Step\n",
    "print(v[:5:2])"
   ]
  },
  {
   "cell_type": "code",
   "execution_count": 98,
   "id": "dfbebd33-eab3-48ca-adc8-60c7043ebe4c",
   "metadata": {},
   "outputs": [
    {
     "name": "stdout",
     "output_type": "stream",
     "text": [
      "[[2 3]\n",
      " [7 8]]\n",
      "[7]\n",
      "[7 8 9]\n",
      "[3 8]\n",
      "[[2 3 4]\n",
      " [7 8 9]]\n"
     ]
    }
   ],
   "source": [
    "# 2D Array\n",
    "v=np.array([[1, 2, 3, 4, 5], [6, 7, 8, 9, 10]])\n",
    "print(v[:,1:3])\n",
    "print(v[1,1:2])\n",
    "print(v[1,1:4])\n",
    "print(v[0:2,2])\n",
    "print(v[0:2,1:4])"
   ]
  },
  {
   "cell_type": "markdown",
   "id": "f9623233-9949-4512-a584-f0d9d8ee2810",
   "metadata": {},
   "source": [
    "# NumPy Data Types:"
   ]
  },
  {
   "cell_type": "code",
   "execution_count": 99,
   "id": "018664a2-a98d-41a0-876e-42bcc2b9698e",
   "metadata": {},
   "outputs": [
    {
     "name": "stdout",
     "output_type": "stream",
     "text": [
      "int32\n"
     ]
    }
   ],
   "source": [
    "# Checking datatypes\n",
    "print(v.dtype)"
   ]
  },
  {
   "cell_type": "code",
   "execution_count": 100,
   "id": "3b8f4b53-b468-4e54-972f-5da8fdaa9ebe",
   "metadata": {},
   "outputs": [
    {
     "name": "stdout",
     "output_type": "stream",
     "text": [
      "<U6\n"
     ]
    }
   ],
   "source": [
    "v=np.array(['apple', 'banana', 'cherry'])\n",
    "print(v.dtype)\n",
    "\n",
    "# U -> unicode string"
   ]
  },
  {
   "cell_type": "code",
   "execution_count": 102,
   "id": "f8341be1-f92c-4fd7-a18e-72c68b25daf2",
   "metadata": {},
   "outputs": [
    {
     "name": "stdout",
     "output_type": "stream",
     "text": [
      "[b'1' b'2' b'3' b'4']\n",
      "|S1\n"
     ]
    }
   ],
   "source": [
    "# Creating array with defined datatype\n",
    "\n",
    "# S-> String\n",
    "v=np.array([1,2,3,4],dtype='S')\n",
    "print(v)\n",
    "print(v.dtype)"
   ]
  },
  {
   "cell_type": "code",
   "execution_count": 104,
   "id": "498d18a2-fa65-477a-ae5c-416e50c9e667",
   "metadata": {},
   "outputs": [
    {
     "name": "stdout",
     "output_type": "stream",
     "text": [
      "[1 2 3 4]\n",
      "int32\n"
     ]
    }
   ],
   "source": [
    "v=np.array([1,2,3,4],dtype='i4')\n",
    "# i4 means integer of 4 bytes\n",
    "print(v)\n",
    "print(v.dtype)"
   ]
  },
  {
   "cell_type": "code",
   "execution_count": 106,
   "id": "35d9462c-39d4-4aa7-aceb-9f2a1b310d9c",
   "metadata": {},
   "outputs": [
    {
     "ename": "ValueError",
     "evalue": "invalid literal for int() with base 10: 'a'",
     "output_type": "error",
     "traceback": [
      "\u001b[1;31m---------------------------------------------------------------------------\u001b[0m",
      "\u001b[1;31mValueError\u001b[0m                                Traceback (most recent call last)",
      "Cell \u001b[1;32mIn[106], line 2\u001b[0m\n\u001b[0;32m      1\u001b[0m \u001b[38;5;66;03m# But what if this type casting fails, then NumPy raised an error\u001b[39;00m\n\u001b[1;32m----> 2\u001b[0m v\u001b[38;5;241m=\u001b[39m\u001b[43mnp\u001b[49m\u001b[38;5;241;43m.\u001b[39;49m\u001b[43marray\u001b[49m\u001b[43m(\u001b[49m\u001b[43m[\u001b[49m\u001b[38;5;124;43m'\u001b[39;49m\u001b[38;5;124;43ma\u001b[39;49m\u001b[38;5;124;43m'\u001b[39;49m\u001b[43m,\u001b[49m\u001b[38;5;124;43m'\u001b[39;49m\u001b[38;5;124;43m2\u001b[39;49m\u001b[38;5;124;43m'\u001b[39;49m\u001b[43m,\u001b[49m\u001b[38;5;124;43m'\u001b[39;49m\u001b[38;5;124;43m3\u001b[39;49m\u001b[38;5;124;43m'\u001b[39;49m\u001b[43m]\u001b[49m\u001b[43m,\u001b[49m\u001b[43mdtype\u001b[49m\u001b[38;5;241;43m=\u001b[39;49m\u001b[38;5;124;43m'\u001b[39;49m\u001b[38;5;124;43mi\u001b[39;49m\u001b[38;5;124;43m'\u001b[39;49m\u001b[43m)\u001b[49m\n",
      "\u001b[1;31mValueError\u001b[0m: invalid literal for int() with base 10: 'a'"
     ]
    }
   ],
   "source": [
    "# But what if this type casting fails, then NumPy raises an error\n",
    "v=np.array(['a','2','3'],dtype='i')"
   ]
  },
  {
   "cell_type": "markdown",
   "id": "602619bf-8872-4e75-bc62-74bbbe69971c",
   "metadata": {},
   "source": [
    "# Checking the Data Type of an Array"
   ]
  },
  {
   "cell_type": "code",
   "execution_count": 109,
   "id": "e4b2f7cd-d55d-4eac-8ed1-d19b57f82b51",
   "metadata": {},
   "outputs": [
    {
     "name": "stdout",
     "output_type": "stream",
     "text": [
      "float64\n",
      "int32\n"
     ]
    }
   ],
   "source": [
    "v=np.array([1.1, 2.1, 3.1])\n",
    "print(v.dtype)\n",
    "newv=v.astype(int)\n",
    "# newv=v.astype('i')\n",
    "print(newv.dtype)"
   ]
  },
  {
   "cell_type": "code",
   "execution_count": 111,
   "id": "da0d1176-5984-4540-a587-ee6c3aac3c41",
   "metadata": {},
   "outputs": [
    {
     "name": "stdout",
     "output_type": "stream",
     "text": [
      "float64\n",
      "bool\n"
     ]
    }
   ],
   "source": [
    "print(v.dtype)\n",
    "newv=v.astype(bool)\n",
    "print(newv.dtype)"
   ]
  },
  {
   "cell_type": "markdown",
   "id": "261b80be-4d1e-4340-b65c-9650c9877f20",
   "metadata": {},
   "source": [
    "# Array Copy vs View "
   ]
  },
  {
   "cell_type": "code",
   "execution_count": 114,
   "id": "69e3b2b2-bccf-4ff5-9c59-93d2be44426a",
   "metadata": {},
   "outputs": [
    {
     "name": "stdout",
     "output_type": "stream",
     "text": [
      "[42  2  3  4  5]\n",
      "[1 2 3 4 5]\n"
     ]
    }
   ],
   "source": [
    "# The copy owns the data and any changes made to the copy will not affect original \n",
    "# array, and any changes made to the original array will not affect the copy.\n",
    "v=np.array([1,2,3,4,5])\n",
    "x=v.copy()\n",
    "v[0]=42\n",
    "print(v)\n",
    "print(x)"
   ]
  },
  {
   "cell_type": "code",
   "execution_count": 116,
   "id": "87b1c4a5-4bc1-48df-b9d2-2be4e73fdbe4",
   "metadata": {},
   "outputs": [
    {
     "name": "stdout",
     "output_type": "stream",
     "text": [
      "[42  2  3  4  5]\n",
      "[10  2  3  4  5]\n",
      "[10  2  3  4  5]\n"
     ]
    }
   ],
   "source": [
    "# The view does not own the data and any changes made to the view will affect \n",
    "# the original array, and any changes made to the original array will affect the view.\n",
    "y=v.view()\n",
    "print(y)\n",
    "y[0]=10\n",
    "print(v)\n",
    "print(y)"
   ]
  },
  {
   "cell_type": "code",
   "execution_count": 117,
   "id": "4756e216-cff2-41c2-bbd0-da9f82196458",
   "metadata": {},
   "outputs": [
    {
     "name": "stdout",
     "output_type": "stream",
     "text": [
      "None\n",
      "None\n",
      "[10  2  3  4  5]\n"
     ]
    }
   ],
   "source": [
    "# Check if Array Owns its Data\n",
    "# attribute base that returns None if the array owns the data.\n",
    "print(v.base)\n",
    "print(x.base)\n",
    "print(y.base)"
   ]
  },
  {
   "cell_type": "code",
   "execution_count": 119,
   "id": "c27f0167-f436-42d9-9b59-564d9be4c978",
   "metadata": {},
   "outputs": [
    {
     "name": "stdout",
     "output_type": "stream",
     "text": [
      "(5,)\n",
      "(2, 4)\n"
     ]
    }
   ],
   "source": [
    "# Shape\n",
    "print(v.shape)\n",
    "v=np.array([[1, 2, 3, 4], [5, 6, 7, 8]])\n",
    "print(v.shape)"
   ]
  },
  {
   "cell_type": "markdown",
   "id": "df78186d-61dd-43d6-96da-150e74cb068a",
   "metadata": {},
   "source": [
    "# Array Reshaping"
   ]
  },
  {
   "cell_type": "code",
   "execution_count": 120,
   "id": "b6c817f2-8e1b-4d59-b9b6-367147b0467b",
   "metadata": {},
   "outputs": [
    {
     "name": "stdout",
     "output_type": "stream",
     "text": [
      "[ 1  2  3  4  5  6  7  8  9 10 11 12]\n",
      "[[ 1  2  3]\n",
      " [ 4  5  6]\n",
      " [ 7  8  9]\n",
      " [10 11 12]]\n"
     ]
    }
   ],
   "source": [
    "# 1D -> 2D\n",
    "arr = np.array([1, 2, 3, 4, 5, 6, 7, 8, 9, 10, 11, 12])\n",
    "new=arr.reshape(4,3)\n",
    "print(arr)\n",
    "print(new)"
   ]
  },
  {
   "cell_type": "code",
   "execution_count": null,
   "id": "97050a9a-4bc6-412a-ab4f-c5d700306e76",
   "metadata": {},
   "outputs": [],
   "source": []
  }
 ],
 "metadata": {
  "kernelspec": {
   "display_name": "Python 3 (ipykernel)",
   "language": "python",
   "name": "python3"
  },
  "language_info": {
   "codemirror_mode": {
    "name": "ipython",
    "version": 3
   },
   "file_extension": ".py",
   "mimetype": "text/x-python",
   "name": "python",
   "nbconvert_exporter": "python",
   "pygments_lexer": "ipython3",
   "version": "3.11.4"
  }
 },
 "nbformat": 4,
 "nbformat_minor": 5
}
