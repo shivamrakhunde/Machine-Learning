{
 "cells": [
  {
   "cell_type": "code",
   "execution_count": 262,
   "id": "17837db8-965d-4949-b829-266439cdfdfd",
   "metadata": {},
   "outputs": [],
   "source": [
    "import numpy as np"
   ]
  },
  {
   "cell_type": "markdown",
   "id": "40802569-3713-45e8-a9ed-79943928f5b9",
   "metadata": {},
   "source": [
    "# Creating Array:"
   ]
  },
  {
   "cell_type": "code",
   "execution_count": 263,
   "id": "3a4ed48a-38dc-4cda-b0ac-f9a6732ece8a",
   "metadata": {},
   "outputs": [
    {
     "name": "stdout",
     "output_type": "stream",
     "text": [
      "42\n"
     ]
    }
   ],
   "source": [
    "# 0D array\n",
    "arr=np.array(42)\n",
    "print(arr)"
   ]
  },
  {
   "cell_type": "code",
   "execution_count": 264,
   "id": "b21a46a9-59b6-4755-80f7-2d01fda44a5d",
   "metadata": {},
   "outputs": [
    {
     "name": "stdout",
     "output_type": "stream",
     "text": [
      "[1 2 3 4 5 6]\n"
     ]
    }
   ],
   "source": [
    "# 1D array\n",
    "arr=np.array([1,2,3,4,5,6])\n",
    "print(arr)"
   ]
  },
  {
   "cell_type": "code",
   "execution_count": 265,
   "id": "15d07ce0-0a03-4ff9-a508-ce15057943f0",
   "metadata": {},
   "outputs": [
    {
     "name": "stdout",
     "output_type": "stream",
     "text": [
      "[[1 2 3]\n",
      " [4 5 6]]\n"
     ]
    }
   ],
   "source": [
    "# 2D array\n",
    "arr=np.array([[1,2,3],[4,5,6]])\n",
    "print(arr)"
   ]
  },
  {
   "cell_type": "code",
   "execution_count": 266,
   "id": "1796b00d-4a6a-4d27-acf9-13347bfd1c78",
   "metadata": {},
   "outputs": [
    {
     "name": "stdout",
     "output_type": "stream",
     "text": [
      "[[[1 2 3]\n",
      "  [4 5 6]]\n",
      "\n",
      " [[1 2 3]\n",
      "  [4 5 6]]]\n"
     ]
    }
   ],
   "source": [
    "# 3D array\n",
    "arr=np.array([[[1,2,3],[4,5,6]],[[1,2,3],[4,5,6]]])\n",
    "print(arr)"
   ]
  },
  {
   "cell_type": "code",
   "execution_count": 267,
   "id": "0f53638f-90ad-44e5-a011-87a12661bd1a",
   "metadata": {},
   "outputs": [
    {
     "name": "stdout",
     "output_type": "stream",
     "text": [
      "0\n",
      "1\n",
      "2\n",
      "3\n"
     ]
    }
   ],
   "source": [
    "# Check Dimensions\n",
    "a = np.array(42)\n",
    "b = np.array([1, 2, 3, 4, 5])\n",
    "c = np.array([[1, 2, 3], [4, 5, 6]])\n",
    "d = np.array([[[1, 2, 3], [4, 5, 6]], [[1, 2, 3], [4, 5, 6]]])\n",
    "\n",
    "print(a.ndim)\n",
    "print(b.ndim)\n",
    "print(c.ndim)\n",
    "print(d.ndim)"
   ]
  },
  {
   "cell_type": "code",
   "execution_count": 268,
   "id": "0300fa8f-5a84-4ced-a502-04543b276f6b",
   "metadata": {},
   "outputs": [
    {
     "name": "stdout",
     "output_type": "stream",
     "text": [
      "[[[[[1 2 3 4]]]]]\n",
      "5\n"
     ]
    }
   ],
   "source": [
    "arr = np.array([1, 2, 3, 4], ndmin=5)\n",
    "print(arr)\n",
    "print(arr.ndim)"
   ]
  },
  {
   "cell_type": "markdown",
   "id": "00d57062-55bf-4704-a2d5-fc74268398b4",
   "metadata": {},
   "source": [
    "# Accessing array elements: "
   ]
  },
  {
   "cell_type": "code",
   "execution_count": 269,
   "id": "da4ec4f4-f400-40e1-a0d7-6999f6d15c99",
   "metadata": {},
   "outputs": [
    {
     "name": "stdout",
     "output_type": "stream",
     "text": [
      "5\n",
      "9\n"
     ]
    }
   ],
   "source": [
    "# 1D Array\n",
    "nums=np.array([1,2,3,4,5])\n",
    "print(nums[1]+nums[2])\n",
    "\n",
    "# Last element => negative index\n",
    "print(nums[-2]+nums[-1])"
   ]
  },
  {
   "cell_type": "code",
   "execution_count": 270,
   "id": "85edc823-489b-4271-a5e0-955cfde18f26",
   "metadata": {},
   "outputs": [
    {
     "name": "stdout",
     "output_type": "stream",
     "text": [
      "9\n",
      "10\n"
     ]
    }
   ],
   "source": [
    "# 2D Array\n",
    "nums=np.array([[1,2,3,4,5],[6,7,8,9,10]])\n",
    "print(nums[1,3])\n",
    "\n",
    "# Last element => negative index\n",
    "print(nums[1,-1]) "
   ]
  },
  {
   "cell_type": "code",
   "execution_count": 271,
   "id": "72cfca67-2d12-471d-8c49-3a2f8812d562",
   "metadata": {},
   "outputs": [
    {
     "name": "stdout",
     "output_type": "stream",
     "text": [
      "[[[  1   2   3]\n",
      "  [  4   5   6]]\n",
      "\n",
      " [[ 10  20  30]\n",
      "  [100 200 300]]]\n",
      "\n",
      "Ans: 30\n"
     ]
    }
   ],
   "source": [
    "# 3D Array\n",
    "nums=np.array([[[1,2,3],[4,5,6]],[[10,20,30],[100,200,300]]])\n",
    "print(nums)\n",
    "print(\"\\nAns:\",nums[1,0,2])"
   ]
  },
  {
   "cell_type": "markdown",
   "id": "55f2fe01-ed23-4dd0-8e05-097694f06d6f",
   "metadata": {},
   "source": [
    "# Array Slicing:"
   ]
  },
  {
   "cell_type": "code",
   "execution_count": 272,
   "id": "03194573-c520-4239-bfd1-bcecea65748e",
   "metadata": {},
   "outputs": [
    {
     "name": "stdout",
     "output_type": "stream",
     "text": [
      "[1 2 3 4]\n",
      "[5 6 7]\n",
      "[1 2 3 4 5]\n",
      "[1 3 5]\n"
     ]
    }
   ],
   "source": [
    "# 1D Array\n",
    "v=np.array([1,2,3,4,5,6,7])\n",
    "print(v[:4])\n",
    "print(v[4:])\n",
    "print(v[:-2])\n",
    "\n",
    "# Step\n",
    "print(v[:5:2])"
   ]
  },
  {
   "cell_type": "code",
   "execution_count": 273,
   "id": "dfbebd33-eab3-48ca-adc8-60c7043ebe4c",
   "metadata": {},
   "outputs": [
    {
     "name": "stdout",
     "output_type": "stream",
     "text": [
      "[[2 3]\n",
      " [7 8]]\n",
      "[7]\n",
      "[7 8 9]\n",
      "[3 8]\n",
      "[[2 3 4]\n",
      " [7 8 9]]\n"
     ]
    }
   ],
   "source": [
    "# 2D Array\n",
    "v=np.array([[1, 2, 3, 4, 5], [6, 7, 8, 9, 10]])\n",
    "print(v[:,1:3])\n",
    "print(v[1,1:2])\n",
    "print(v[1,1:4])\n",
    "print(v[0:2,2])\n",
    "print(v[0:2,1:4])"
   ]
  },
  {
   "cell_type": "markdown",
   "id": "f9623233-9949-4512-a584-f0d9d8ee2810",
   "metadata": {},
   "source": [
    "# NumPy Data Types:"
   ]
  },
  {
   "cell_type": "code",
   "execution_count": 274,
   "id": "018664a2-a98d-41a0-876e-42bcc2b9698e",
   "metadata": {},
   "outputs": [
    {
     "name": "stdout",
     "output_type": "stream",
     "text": [
      "int32\n"
     ]
    }
   ],
   "source": [
    "# Checking datatypes\n",
    "print(v.dtype)"
   ]
  },
  {
   "cell_type": "code",
   "execution_count": 275,
   "id": "3b8f4b53-b468-4e54-972f-5da8fdaa9ebe",
   "metadata": {},
   "outputs": [
    {
     "name": "stdout",
     "output_type": "stream",
     "text": [
      "<U6\n"
     ]
    }
   ],
   "source": [
    "v=np.array(['apple', 'banana', 'cherry'])\n",
    "print(v.dtype)\n",
    "\n",
    "# U -> unicode string"
   ]
  },
  {
   "cell_type": "code",
   "execution_count": 276,
   "id": "f8341be1-f92c-4fd7-a18e-72c68b25daf2",
   "metadata": {},
   "outputs": [
    {
     "name": "stdout",
     "output_type": "stream",
     "text": [
      "[b'1' b'2' b'3' b'4']\n",
      "|S1\n"
     ]
    }
   ],
   "source": [
    "# Creating array with defined datatype\n",
    "\n",
    "# S-> String\n",
    "v=np.array([1,2,3,4],dtype='S')\n",
    "print(v)\n",
    "print(v.dtype)"
   ]
  },
  {
   "cell_type": "code",
   "execution_count": 277,
   "id": "498d18a2-fa65-477a-ae5c-416e50c9e667",
   "metadata": {},
   "outputs": [
    {
     "name": "stdout",
     "output_type": "stream",
     "text": [
      "[1 2 3 4]\n",
      "int32\n"
     ]
    }
   ],
   "source": [
    "v=np.array([1,2,3,4],dtype='i4')\n",
    "# i4 means integer of 4 bytes\n",
    "print(v)\n",
    "print(v.dtype)"
   ]
  },
  {
   "cell_type": "code",
   "execution_count": 278,
   "id": "35d9462c-39d4-4aa7-aceb-9f2a1b310d9c",
   "metadata": {},
   "outputs": [
    {
     "ename": "ValueError",
     "evalue": "invalid literal for int() with base 10: 'a'",
     "output_type": "error",
     "traceback": [
      "\u001b[1;31m---------------------------------------------------------------------------\u001b[0m",
      "\u001b[1;31mValueError\u001b[0m                                Traceback (most recent call last)",
      "Cell \u001b[1;32mIn[278], line 2\u001b[0m\n\u001b[0;32m      1\u001b[0m \u001b[38;5;66;03m# But what if this type casting fails, then NumPy raises an error\u001b[39;00m\n\u001b[1;32m----> 2\u001b[0m v\u001b[38;5;241m=\u001b[39m\u001b[43mnp\u001b[49m\u001b[38;5;241;43m.\u001b[39;49m\u001b[43marray\u001b[49m\u001b[43m(\u001b[49m\u001b[43m[\u001b[49m\u001b[38;5;124;43m'\u001b[39;49m\u001b[38;5;124;43ma\u001b[39;49m\u001b[38;5;124;43m'\u001b[39;49m\u001b[43m,\u001b[49m\u001b[38;5;124;43m'\u001b[39;49m\u001b[38;5;124;43m2\u001b[39;49m\u001b[38;5;124;43m'\u001b[39;49m\u001b[43m,\u001b[49m\u001b[38;5;124;43m'\u001b[39;49m\u001b[38;5;124;43m3\u001b[39;49m\u001b[38;5;124;43m'\u001b[39;49m\u001b[43m]\u001b[49m\u001b[43m,\u001b[49m\u001b[43mdtype\u001b[49m\u001b[38;5;241;43m=\u001b[39;49m\u001b[38;5;124;43m'\u001b[39;49m\u001b[38;5;124;43mi\u001b[39;49m\u001b[38;5;124;43m'\u001b[39;49m\u001b[43m)\u001b[49m\n",
      "\u001b[1;31mValueError\u001b[0m: invalid literal for int() with base 10: 'a'"
     ]
    }
   ],
   "source": [
    "# But what if this type casting fails, then NumPy raises an error\n",
    "v=np.array(['a','2','3'],dtype='i')"
   ]
  },
  {
   "cell_type": "markdown",
   "id": "602619bf-8872-4e75-bc62-74bbbe69971c",
   "metadata": {},
   "source": [
    "# Changing the Data Type of an Array"
   ]
  },
  {
   "cell_type": "code",
   "execution_count": 279,
   "id": "e4b2f7cd-d55d-4eac-8ed1-d19b57f82b51",
   "metadata": {},
   "outputs": [
    {
     "name": "stdout",
     "output_type": "stream",
     "text": [
      "float64\n",
      "int32\n"
     ]
    }
   ],
   "source": [
    "v=np.array([1.1, 2.1, 3.1])\n",
    "print(v.dtype)\n",
    "newv=v.astype(int)\n",
    "# newv=v.astype('i')\n",
    "print(newv.dtype)"
   ]
  },
  {
   "cell_type": "code",
   "execution_count": 280,
   "id": "da0d1176-5984-4540-a587-ee6c3aac3c41",
   "metadata": {},
   "outputs": [
    {
     "name": "stdout",
     "output_type": "stream",
     "text": [
      "float64\n",
      "bool\n"
     ]
    }
   ],
   "source": [
    "print(v.dtype)\n",
    "newv=v.astype(bool)\n",
    "print(newv.dtype)"
   ]
  },
  {
   "cell_type": "markdown",
   "id": "261b80be-4d1e-4340-b65c-9650c9877f20",
   "metadata": {},
   "source": [
    "# Array Copy vs View "
   ]
  },
  {
   "cell_type": "code",
   "execution_count": 281,
   "id": "69e3b2b2-bccf-4ff5-9c59-93d2be44426a",
   "metadata": {},
   "outputs": [
    {
     "name": "stdout",
     "output_type": "stream",
     "text": [
      "[42  2  3  4  5]\n",
      "[1 2 3 4 5]\n"
     ]
    }
   ],
   "source": [
    "# The copy owns the data and any changes made to the copy will not affect original \n",
    "# array, and any changes made to the original array will not affect the copy.\n",
    "v=np.array([1,2,3,4,5])\n",
    "x=v.copy()\n",
    "v[0]=42\n",
    "print(v)\n",
    "print(x)"
   ]
  },
  {
   "cell_type": "code",
   "execution_count": 282,
   "id": "87b1c4a5-4bc1-48df-b9d2-2be4e73fdbe4",
   "metadata": {},
   "outputs": [
    {
     "name": "stdout",
     "output_type": "stream",
     "text": [
      "[42  2  3  4  5]\n",
      "[10  2  3  4  5]\n",
      "[10  2  3  4  5]\n"
     ]
    }
   ],
   "source": [
    "# The view does not own the data and any changes made to the view will affect \n",
    "# the original array, and any changes made to the original array will affect the view.\n",
    "y=v.view()\n",
    "print(y)\n",
    "y[0]=10\n",
    "print(v)\n",
    "print(y)"
   ]
  },
  {
   "cell_type": "code",
   "execution_count": 283,
   "id": "4756e216-cff2-41c2-bbd0-da9f82196458",
   "metadata": {},
   "outputs": [
    {
     "name": "stdout",
     "output_type": "stream",
     "text": [
      "None\n",
      "None\n",
      "[10  2  3  4  5]\n"
     ]
    }
   ],
   "source": [
    "# Check if Array Owns its Data\n",
    "# attribute base that returns None if the array owns the data.\n",
    "print(v.base)\n",
    "print(x.base)\n",
    "print(y.base)"
   ]
  },
  {
   "cell_type": "code",
   "execution_count": 284,
   "id": "c27f0167-f436-42d9-9b59-564d9be4c978",
   "metadata": {},
   "outputs": [
    {
     "name": "stdout",
     "output_type": "stream",
     "text": [
      "(5,)\n",
      "(2, 4)\n"
     ]
    }
   ],
   "source": [
    "# Shape\n",
    "print(v.shape)\n",
    "v=np.array([[1, 2, 3, 4], [5, 6, 7, 8]])\n",
    "print(v.shape)"
   ]
  },
  {
   "cell_type": "markdown",
   "id": "df78186d-61dd-43d6-96da-150e74cb068a",
   "metadata": {},
   "source": [
    "# Array Reshaping"
   ]
  },
  {
   "cell_type": "code",
   "execution_count": 285,
   "id": "b6c817f2-8e1b-4d59-b9b6-367147b0467b",
   "metadata": {},
   "outputs": [
    {
     "name": "stdout",
     "output_type": "stream",
     "text": [
      "[ 1  2  3  4  5  6  7  8  9 10 11 12]\n",
      "[[ 1  2  3]\n",
      " [ 4  5  6]\n",
      " [ 7  8  9]\n",
      " [10 11 12]]\n"
     ]
    }
   ],
   "source": [
    "# 1D -> 2D\n",
    "arr = np.array([1, 2, 3, 4, 5, 6, 7, 8, 9, 10, 11, 12])\n",
    "new=arr.reshape(4,3)\n",
    "print(arr)\n",
    "print(new)"
   ]
  },
  {
   "cell_type": "code",
   "execution_count": 286,
   "id": "97050a9a-4bc6-412a-ab4f-c5d700306e76",
   "metadata": {},
   "outputs": [
    {
     "name": "stdout",
     "output_type": "stream",
     "text": [
      "[[[ 1  2]\n",
      "  [ 3  4]\n",
      "  [ 5  6]]\n",
      "\n",
      " [[ 7  8]\n",
      "  [ 9 10]\n",
      "  [11 12]]]\n"
     ]
    }
   ],
   "source": [
    "# 1D -> 3D\n",
    "new = arr.reshape(2,3,2)\n",
    "print(new)"
   ]
  },
  {
   "cell_type": "markdown",
   "id": "05d94406-5d12-4b17-b843-af5455295141",
   "metadata": {},
   "source": [
    "# Can We Reshape Into any Shape?"
   ]
  },
  {
   "cell_type": "markdown",
   "id": "a0582419-346b-483b-be7d-1f33bf7e1d5a",
   "metadata": {},
   "source": [
    "Yes, as long as the elements required for reshaping are equal in both shapes.\n",
    "\n",
    "The multiplication of the reshape parameters must be equal to the no of elements."
   ]
  },
  {
   "cell_type": "code",
   "execution_count": 287,
   "id": "47a2c765-d24e-4bbb-8918-62e067347ac1",
   "metadata": {},
   "outputs": [
    {
     "name": "stdout",
     "output_type": "stream",
     "text": [
      "[ 1  2  3  4  5  6  7  8  9 10 11 12]\n",
      "Base or parent: [ 1  2  3  4  5  6  7  8  9 10 11 12]\n"
     ]
    }
   ],
   "source": [
    "print(arr)\n",
    "print(\"Base or parent:\",arr.reshape(3,4).base)\n",
    "# parent is arr"
   ]
  },
  {
   "cell_type": "markdown",
   "id": "92422227-57dc-4f17-8316-0413d6720f65",
   "metadata": {},
   "source": [
    "# Unknown Dimension"
   ]
  },
  {
   "cell_type": "markdown",
   "id": "5303a22c-02a2-404e-bdfc-292cff6b93a2",
   "metadata": {},
   "source": [
    "You are allowed to have one \"unknown\" dimension.\n",
    "\n",
    "Meaning that you do not have to specify an exact number for one of the dimensions in the reshape method.\n",
    "\n",
    "Pass -1 as the value, and NumPy will calculate this number for you.\n",
    "\n",
    "The logic is the last parameter will be calculated by making the product of parameters and no of elements equal."
   ]
  },
  {
   "cell_type": "code",
   "execution_count": 288,
   "id": "da36845a-3bdd-445c-b827-6a5f1b7dc3f5",
   "metadata": {},
   "outputs": [
    {
     "name": "stdout",
     "output_type": "stream",
     "text": [
      "[[[ 1  2  3]\n",
      "  [ 4  5  6]]\n",
      "\n",
      " [[ 7  8  9]\n",
      "  [10 11 12]]]\n"
     ]
    }
   ],
   "source": [
    "new = arr.reshape(2,2,-1)\n",
    "print(new)"
   ]
  },
  {
   "cell_type": "markdown",
   "id": "9ff3024f-dffe-42aa-88df-8db907479385",
   "metadata": {},
   "source": [
    "# Flattening the arrays"
   ]
  },
  {
   "cell_type": "code",
   "execution_count": 289,
   "id": "186dc383-40be-44a4-ae0c-5dd4e94692db",
   "metadata": {},
   "outputs": [
    {
     "name": "stdout",
     "output_type": "stream",
     "text": [
      "[1 2 3 4 5 6]\n",
      "[1 2 3 4 5 6]\n"
     ]
    }
   ],
   "source": [
    "# 2D -> 1D\n",
    "arr=np.array([[1, 2, 3], [4, 5, 6]])\n",
    "new = arr.reshape(-1)\n",
    "print(new)\n",
    "\n",
    "# OR\n",
    "new = arr.reshape(6)\n",
    "print(new)"
   ]
  },
  {
   "cell_type": "markdown",
   "id": "fdf6859a-ae63-4942-a45a-b0fbac9fa57d",
   "metadata": {},
   "source": [
    "# Array Iteration"
   ]
  },
  {
   "cell_type": "code",
   "execution_count": 290,
   "id": "0d5efa2f-9f19-410b-96ff-c5d033acd685",
   "metadata": {},
   "outputs": [
    {
     "name": "stdout",
     "output_type": "stream",
     "text": [
      "1\n",
      "2\n",
      "3\n"
     ]
    }
   ],
   "source": [
    "# 1D array\n",
    "arr = np.array([1, 2, 3])\n",
    "for x in arr: \n",
    "    print(x)"
   ]
  },
  {
   "cell_type": "code",
   "execution_count": 291,
   "id": "f9592f25-142b-466f-9137-0384f73e3c7e",
   "metadata": {},
   "outputs": [
    {
     "name": "stdout",
     "output_type": "stream",
     "text": [
      "[1 2 3]\n",
      "[4 5 6]\n",
      "\n",
      "1\n",
      "2\n",
      "3\n",
      "4\n",
      "5\n",
      "6\n"
     ]
    }
   ],
   "source": [
    "# 2D \n",
    "arr = np.array([[1, 2, 3], [4, 5, 6]])\n",
    "for x in arr:\n",
    "    print(x)\n",
    "\n",
    "print()\n",
    "\n",
    "for x in arr:\n",
    "    for y in x:\n",
    "        print(y)"
   ]
  },
  {
   "cell_type": "code",
   "execution_count": 292,
   "id": "8f4b3dee-c84d-4558-bc4d-55c163247046",
   "metadata": {},
   "outputs": [
    {
     "name": "stdout",
     "output_type": "stream",
     "text": [
      "[[1 2 3]\n",
      " [4 5 6]]\n",
      "[[ 7  8  9]\n",
      " [10 11 12]]\n",
      "\n",
      "[1 2 3]\n",
      "[4 5 6]\n",
      "[7 8 9]\n",
      "[10 11 12]\n",
      "\n",
      "1\n",
      "2\n",
      "3\n",
      "4\n",
      "5\n",
      "6\n",
      "7\n",
      "8\n",
      "9\n",
      "10\n",
      "11\n",
      "12\n"
     ]
    }
   ],
   "source": [
    "# 3D\n",
    "arr = np.array([[[1, 2, 3], [4, 5, 6]], [[7, 8, 9], [10, 11, 12]]])\n",
    "for x in arr:\n",
    "    print(x)\n",
    "\n",
    "print()\n",
    "\n",
    "for x in arr:\n",
    "    for y in x:\n",
    "        print(y)\n",
    "\n",
    "print()\n",
    "\n",
    "for x in arr:\n",
    "    for y in x:\n",
    "        for z in y:\n",
    "            print(z)"
   ]
  },
  {
   "cell_type": "code",
   "execution_count": 293,
   "id": "40175f26-c8aa-4dc3-8d67-fff1638ed948",
   "metadata": {},
   "outputs": [
    {
     "name": "stdout",
     "output_type": "stream",
     "text": [
      "1\n",
      "2\n",
      "3\n",
      "4\n",
      "5\n",
      "6\n",
      "7\n",
      "8\n"
     ]
    }
   ],
   "source": [
    "arr = np.array([[[1, 2], [3, 4]], [[5, 6], [7, 8]]])\n",
    "for x in np.nditer(arr):\n",
    "    print(x)"
   ]
  },
  {
   "cell_type": "markdown",
   "id": "b628a6b0-ebcd-4d8c-9efe-3e83fe49d3e9",
   "metadata": {},
   "source": [
    "# Iterating Array With Different Data Types"
   ]
  },
  {
   "cell_type": "code",
   "execution_count": 294,
   "id": "05403409-e045-419a-a534-ebdb1e6f3727",
   "metadata": {},
   "outputs": [
    {
     "name": "stdout",
     "output_type": "stream",
     "text": [
      "b'1'\n",
      "b'2'\n",
      "b'3'\n"
     ]
    }
   ],
   "source": [
    "arr = np.array([1, 2, 3])\n",
    "for x in np.nditer(arr,flags=['buffered'], op_dtypes=['S']):\n",
    "    print(x)"
   ]
  },
  {
   "cell_type": "markdown",
   "id": "0c25c531-d014-4b7b-a50a-e474f7bf5074",
   "metadata": {},
   "source": [
    "# Iterating With Different Step Size"
   ]
  },
  {
   "cell_type": "code",
   "execution_count": 295,
   "id": "3b49cb31-9f5e-4a3f-84ec-8065641e3cbe",
   "metadata": {},
   "outputs": [
    {
     "name": "stdout",
     "output_type": "stream",
     "text": [
      "1\n",
      "3\n",
      "5\n",
      "7\n"
     ]
    }
   ],
   "source": [
    "arr = np.array([[1, 2, 3, 4], [5, 6, 7, 8]])\n",
    "for x in np.nditer(arr[:,::2]):\n",
    "    print(x)"
   ]
  },
  {
   "cell_type": "markdown",
   "id": "c86493d4-d1dc-4607-aee2-9e1069fabde9",
   "metadata": {},
   "source": [
    "# Enumerated Iteration Using ndenumerate()"
   ]
  },
  {
   "cell_type": "code",
   "execution_count": 296,
   "id": "d7f7c26b-ecff-4b78-af61-609e6007889c",
   "metadata": {},
   "outputs": [
    {
     "name": "stdout",
     "output_type": "stream",
     "text": [
      "(0,) 1\n",
      "(1,) 2\n",
      "(2,) 3\n"
     ]
    }
   ],
   "source": [
    "arr = np.array([1, 2, 3])\n",
    "for idx,x in np.ndenumerate(arr):\n",
    "    print(idx,x)"
   ]
  },
  {
   "cell_type": "code",
   "execution_count": 297,
   "id": "31b20cf3-1540-4f8c-8cf8-cc58e1d5721f",
   "metadata": {},
   "outputs": [
    {
     "name": "stdout",
     "output_type": "stream",
     "text": [
      "Index Element\n",
      "(0, 0) 1\n",
      "(0, 1) 2\n",
      "(0, 2) 3\n",
      "(0, 3) 4\n",
      "(1, 0) 5\n",
      "(1, 1) 6\n",
      "(1, 2) 7\n",
      "(1, 3) 8\n"
     ]
    }
   ],
   "source": [
    "arr = np.array([[1, 2, 3, 4], [5, 6, 7, 8]])\n",
    "print(\"Index\",\"Element\")\n",
    "for idx,x in np.ndenumerate(arr):\n",
    "    print(idx,x)"
   ]
  },
  {
   "cell_type": "markdown",
   "id": "2f932970-a90f-4e02-a206-a707b2c76e27",
   "metadata": {},
   "source": [
    "# Joining Array"
   ]
  },
  {
   "cell_type": "code",
   "execution_count": 298,
   "id": "50a974c6-2b07-48b6-b415-fa0c8de505c0",
   "metadata": {},
   "outputs": [
    {
     "name": "stdout",
     "output_type": "stream",
     "text": [
      "[1 2 3 4 5 6]\n"
     ]
    }
   ],
   "source": [
    "# 1D array\n",
    "arr1 = np.array([1, 2, 3])\n",
    "arr2 = np.array([4, 5, 6])\n",
    "print(np.concatenate((arr1,arr2)))"
   ]
  },
  {
   "cell_type": "code",
   "execution_count": 299,
   "id": "1e1b58ce-571b-41ac-90c0-218ad306e9b5",
   "metadata": {},
   "outputs": [
    {
     "name": "stdout",
     "output_type": "stream",
     "text": [
      "[[1 2 5 6]\n",
      " [3 4 7 8]]\n",
      "\n",
      "[[1 2]\n",
      " [3 4]\n",
      " [5 6]\n",
      " [7 8]]\n"
     ]
    }
   ],
   "source": [
    "# 2D array\n",
    "arr1 = np.array([[1, 2], [3, 4]])\n",
    "arr2 = np.array([[5, 6], [7, 8]])\n",
    "arr=np.concatenate((arr1,arr2),axis=1)\n",
    "print(arr)\n",
    "\n",
    "print()\n",
    "\n",
    "arr=np.concatenate((arr1,arr2),axis=0)\n",
    "print(arr)"
   ]
  },
  {
   "cell_type": "code",
   "execution_count": 300,
   "id": "15fed361-44de-4745-86f0-f10d82003300",
   "metadata": {},
   "outputs": [
    {
     "name": "stdout",
     "output_type": "stream",
     "text": [
      "[[1 4]\n",
      " [2 5]\n",
      " [3 6]]\n",
      "\n",
      "[[1 2 3]\n",
      " [4 5 6]]\n"
     ]
    }
   ],
   "source": [
    "arr1 = np.array([1, 2, 3])\n",
    "arr2 = np.array([4, 5, 6])\n",
    "arr= np.stack((arr1,arr2),axis=1)\n",
    "print(arr)\n",
    "\n",
    "print()\n",
    "\n",
    "arr= np.stack((arr1,arr2),axis=0)\n",
    "print(arr)"
   ]
  },
  {
   "cell_type": "code",
   "execution_count": 301,
   "id": "587ed2af-d6d8-4d18-a91f-66aa058a29d6",
   "metadata": {},
   "outputs": [
    {
     "name": "stdout",
     "output_type": "stream",
     "text": [
      "[1 2 3 4 5 6]\n"
     ]
    }
   ],
   "source": [
    "# Horizontal(Rows) stacking\n",
    "arr=np.hstack((arr1,arr2))\n",
    "print(arr)"
   ]
  },
  {
   "cell_type": "code",
   "execution_count": 302,
   "id": "bfa1bd27-642f-4f2b-b8a3-87fbd22a2246",
   "metadata": {},
   "outputs": [
    {
     "name": "stdout",
     "output_type": "stream",
     "text": [
      "[[1 2 3]\n",
      " [4 5 6]]\n"
     ]
    }
   ],
   "source": [
    "# Vertical(Column) stacking\n",
    "arr=np.vstack((arr1,arr2))\n",
    "print(arr)"
   ]
  },
  {
   "cell_type": "code",
   "execution_count": 303,
   "id": "12b6ad92-ef5c-4c9d-a48e-4c2620d6b925",
   "metadata": {},
   "outputs": [
    {
     "name": "stdout",
     "output_type": "stream",
     "text": [
      "[[[1 4]\n",
      "  [2 5]\n",
      "  [3 6]]]\n"
     ]
    }
   ],
   "source": [
    "# Depth(Height) stacking\n",
    "arr=np.dstack((arr1,arr2))\n",
    "print(arr)"
   ]
  },
  {
   "cell_type": "markdown",
   "id": "2b159729-29f3-49ae-9ae6-fc107f4f0857",
   "metadata": {},
   "source": [
    "# Splitting Arrays"
   ]
  },
  {
   "cell_type": "code",
   "execution_count": 304,
   "id": "0f351632-a8e5-4402-8c6f-acaa4a0b4c79",
   "metadata": {},
   "outputs": [
    {
     "name": "stdout",
     "output_type": "stream",
     "text": [
      "[array([1, 2]), array([3, 4]), array([5, 6])]\n",
      "\n",
      "[1 2]\n",
      "[3 4]\n",
      "[5 6]\n"
     ]
    }
   ],
   "source": [
    "# 1D array\n",
    "arr = np.array([1, 2, 3, 4, 5, 6])\n",
    "new = np.array_split(arr,3)\n",
    "print(new)\n",
    "\n",
    "print()\n",
    "\n",
    "print(new[0])\n",
    "print(new[1])\n",
    "print(new[2])"
   ]
  },
  {
   "cell_type": "code",
   "execution_count": 305,
   "id": "63a849a1-3a5a-4574-8e44-1c8e639a0e44",
   "metadata": {},
   "outputs": [
    {
     "name": "stdout",
     "output_type": "stream",
     "text": [
      "[array([[1, 2],\n",
      "       [3, 4]]), array([[5, 6],\n",
      "       [7, 8]]), array([[ 9, 10],\n",
      "       [11, 12]])]\n",
      "\n",
      "[[1 2]\n",
      " [3 4]]\n",
      "[[5 6]\n",
      " [7 8]]\n",
      "[[ 9 10]\n",
      " [11 12]]\n"
     ]
    }
   ],
   "source": [
    "# 2D array\n",
    "arr = np.array([[1, 2], [3, 4], [5, 6], [7, 8], [9, 10], [11, 12]])\n",
    "new = np.array_split(arr,3)\n",
    "print(new)\n",
    "\n",
    "print()\n",
    "\n",
    "print(new[0])\n",
    "print(new[1])\n",
    "print(new[2])"
   ]
  },
  {
   "cell_type": "code",
   "execution_count": 306,
   "id": "5d00fcfd-8472-4997-ad74-92261180b0c9",
   "metadata": {},
   "outputs": [
    {
     "name": "stdout",
     "output_type": "stream",
     "text": [
      "[array([[ 1],\n",
      "       [ 4],\n",
      "       [ 7],\n",
      "       [10],\n",
      "       [13],\n",
      "       [16]]), array([[ 2],\n",
      "       [ 5],\n",
      "       [ 8],\n",
      "       [11],\n",
      "       [14],\n",
      "       [17]]), array([[ 3],\n",
      "       [ 6],\n",
      "       [ 9],\n",
      "       [12],\n",
      "       [15],\n",
      "       [18]])]\n",
      "\n",
      "[[ 1]\n",
      " [ 4]\n",
      " [ 7]\n",
      " [10]\n",
      " [13]\n",
      " [16]]\n",
      "[[ 2]\n",
      " [ 5]\n",
      " [ 8]\n",
      " [11]\n",
      " [14]\n",
      " [17]]\n",
      "[[ 3]\n",
      " [ 6]\n",
      " [ 9]\n",
      " [12]\n",
      " [15]\n",
      " [18]]\n"
     ]
    }
   ],
   "source": [
    "# Splitting along row\n",
    "arr = np.array([[1, 2, 3], [4, 5, 6], [7, 8, 9], [10, 11, 12], [13, 14, 15], [16, 17, 18]])\n",
    "new =np.array_split(arr,3,axis=1)\n",
    "print(new)\n",
    "\n",
    "print()\n",
    "\n",
    "print(new[0])\n",
    "print(new[1])\n",
    "print(new[2])"
   ]
  },
  {
   "cell_type": "code",
   "execution_count": 307,
   "id": "3a2f57ac-1731-4ebc-bb4b-15841969f0b3",
   "metadata": {},
   "outputs": [
    {
     "name": "stdout",
     "output_type": "stream",
     "text": [
      "[array([[ 1],\n",
      "       [ 4],\n",
      "       [ 7],\n",
      "       [10],\n",
      "       [13],\n",
      "       [16]]), array([[ 2],\n",
      "       [ 5],\n",
      "       [ 8],\n",
      "       [11],\n",
      "       [14],\n",
      "       [17]]), array([[ 3],\n",
      "       [ 6],\n",
      "       [ 9],\n",
      "       [12],\n",
      "       [15],\n",
      "       [18]])]\n"
     ]
    }
   ],
   "source": [
    "arr = np.array([[1, 2, 3], [4, 5, 6], [7, 8, 9], [10, 11, 12], [13, 14, 15], [16, 17, 18]])\n",
    "\n",
    "newarr = np.hsplit(arr, 3)\n",
    "\n",
    "print(newarr)"
   ]
  },
  {
   "cell_type": "markdown",
   "id": "3a9e9aef-adc8-4302-bc13-bf2a4356ca23",
   "metadata": {},
   "source": [
    "# Searching arrays"
   ]
  },
  {
   "cell_type": "code",
   "execution_count": 308,
   "id": "13c89868-ca4e-498d-918e-d7771d2afb73",
   "metadata": {},
   "outputs": [
    {
     "name": "stdout",
     "output_type": "stream",
     "text": [
      "(array([3, 5, 6], dtype=int64),)\n",
      "\n",
      "(array([1, 3, 5, 6], dtype=int64),)\n"
     ]
    }
   ],
   "source": [
    "arr = np.array([1, 2, 3, 4, 5, 4, 4])\n",
    "x= np.where(arr==4)\n",
    "print(x)\n",
    "\n",
    "print()\n",
    "\n",
    "y=np.where(arr%2==0)\n",
    "print(y)"
   ]
  },
  {
   "cell_type": "code",
   "execution_count": 309,
   "id": "ef38b217-fc8c-4547-93f9-76ab635ad405",
   "metadata": {},
   "outputs": [
    {
     "name": "stdout",
     "output_type": "stream",
     "text": [
      "1\n",
      "Right 2\n"
     ]
    }
   ],
   "source": [
    "# If array is sorted, binary search is applied\n",
    "arr=np.array([6,7,8,9])\n",
    "x=np.searchsorted(arr,7)\n",
    "print(x)\n",
    "\n",
    "# Now generally search begins from left, to start seach from right\n",
    "y=np.searchsorted(arr,7,side='right')\n",
    "print('Right',y)"
   ]
  },
  {
   "cell_type": "code",
   "execution_count": 310,
   "id": "bdb51896-41a9-4448-a868-ea63cb14f9bd",
   "metadata": {},
   "outputs": [
    {
     "name": "stdout",
     "output_type": "stream",
     "text": [
      "[1 2 3]\n"
     ]
    }
   ],
   "source": [
    "# To search multiple values\n",
    "arr=np.array([1,3,5,7])\n",
    "x=np.searchsorted(arr,[2,4,6])\n",
    "print(x)\n",
    "# The return value is an array: [1 2 3] containing the three indexes \n",
    "# where 2, 4, 6 would be inserted in the original array to maintain the order."
   ]
  },
  {
   "attachments": {},
   "cell_type": "markdown",
   "id": "d0b865ae-69d0-4b4e-9179-73430c482281",
   "metadata": {},
   "source": [
    "# Sorting arrays\n",
    "\n"
   ]
  },
  {
   "cell_type": "code",
   "execution_count": 311,
   "id": "c1f26805-5d4b-4d0e-82af-dfcf0a58394a",
   "metadata": {},
   "outputs": [
    {
     "name": "stdout",
     "output_type": "stream",
     "text": [
      "[0 1 2 3]\n",
      "['apple' 'banana' 'cherry']\n",
      "[False  True  True]\n"
     ]
    }
   ],
   "source": [
    "# 1D\n",
    "arr = np.array([3, 2, 0, 1])\n",
    "print(np.sort(arr))\n",
    "\n",
    "arr = np.array(['banana', 'cherry', 'apple'])\n",
    "print(np.sort(arr))\n",
    "\n",
    "arr = np.array([True, False, True])\n",
    "print(np.sort(arr))"
   ]
  },
  {
   "cell_type": "code",
   "execution_count": 312,
   "id": "ae291fae-0e65-483a-9ade-eca6078a86de",
   "metadata": {},
   "outputs": [
    {
     "name": "stdout",
     "output_type": "stream",
     "text": [
      "[[2 3 4]\n",
      " [0 1 5]]\n"
     ]
    }
   ],
   "source": [
    "# 2D\n",
    "arr = np.array([[3, 2, 4], [5, 0, 1]])\n",
    "print(np.sort(arr))"
   ]
  },
  {
   "cell_type": "markdown",
   "id": "4c021bd0-ed7a-4761-860e-bc11122f6b0c",
   "metadata": {},
   "source": [
    "# Filtering arrays"
   ]
  },
  {
   "cell_type": "markdown",
   "id": "2c9084ee-47d9-4bcc-a6ea-d8107a2736b3",
   "metadata": {},
   "source": [
    "Getting some elements out of an existing array and \n",
    "creating a new array out of them is called filtering."
   ]
  },
  {
   "cell_type": "code",
   "execution_count": 313,
   "id": "fc8afea6-9b46-43e6-b0e5-bb4cea261096",
   "metadata": {},
   "outputs": [
    {
     "name": "stdout",
     "output_type": "stream",
     "text": [
      "[41 43]\n"
     ]
    }
   ],
   "source": [
    "arr = np.array([41, 42, 43, 44])\n",
    "x = [True, False, True, False]\n",
    "new = arr[x]\n",
    "print(new)"
   ]
  },
  {
   "cell_type": "code",
   "execution_count": 314,
   "id": "c21c589e-872c-405f-9106-fc43baa9da39",
   "metadata": {},
   "outputs": [
    {
     "name": "stdout",
     "output_type": "stream",
     "text": [
      "[41 42 43 44]\n",
      "[False, False, True, True]\n",
      "[43 44]\n",
      "\n",
      "[False False  True  True]\n",
      "[43 44]\n"
     ]
    }
   ],
   "source": [
    "# Create a filter array that will return only values higher than 42\n",
    "arr = np.array([41, 42, 43, 44])\n",
    "new = []\n",
    "for ele in arr:\n",
    "    if ele > 42:\n",
    "        new.append(True)\n",
    "    else :\n",
    "        new .append(False)\n",
    "print(arr)\n",
    "print(new)\n",
    "\n",
    "# Filtered array\n",
    "filter_array=arr[new]\n",
    "print(filter_array)\n",
    "\n",
    "print()\n",
    "\n",
    "# OR\n",
    "filter_array=arr>42\n",
    "print(filter_array)\n",
    "filter_array=arr[filter_array]\n",
    "print(filter_array)"
   ]
  },
  {
   "cell_type": "code",
   "execution_count": 315,
   "id": "1f3e6927-4d64-4ffc-bdd6-eef25fca9175",
   "metadata": {},
   "outputs": [
    {
     "name": "stdout",
     "output_type": "stream",
     "text": [
      "[2, 4, 6]\n",
      "\n",
      "[2 4 6]\n"
     ]
    }
   ],
   "source": [
    "# Create a filter array that will return only even elements from the original array:\n",
    "arr = np.array([1, 2, 3, 4, 5, 6, 7])\n",
    "new = []\n",
    "for ele in arr:\n",
    "    if ele%2==0:\n",
    "        new.append(ele)\n",
    "print(new)\n",
    "\n",
    "print()\n",
    "\n",
    "# OR\n",
    "new=arr[arr%2==0]\n",
    "print(new)"
   ]
  }
 ],
 "metadata": {
  "kernelspec": {
   "display_name": "Python 3 (ipykernel)",
   "language": "python",
   "name": "python3"
  },
  "language_info": {
   "codemirror_mode": {
    "name": "ipython",
    "version": 3
   },
   "file_extension": ".py",
   "mimetype": "text/x-python",
   "name": "python",
   "nbconvert_exporter": "python",
   "pygments_lexer": "ipython3",
   "version": "3.11.4"
  }
 },
 "nbformat": 4,
 "nbformat_minor": 5
}
