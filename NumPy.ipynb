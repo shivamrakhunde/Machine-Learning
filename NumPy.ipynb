{
 "cells": [
  {
   "cell_type": "code",
   "execution_count": 87,
   "id": "17837db8-965d-4949-b829-266439cdfdfd",
   "metadata": {},
   "outputs": [],
   "source": [
    "import numpy as np"
   ]
  },
  {
   "cell_type": "markdown",
   "id": "40802569-3713-45e8-a9ed-79943928f5b9",
   "metadata": {},
   "source": [
    "# Creating Array:"
   ]
  },
  {
   "cell_type": "code",
   "execution_count": 88,
   "id": "3a4ed48a-38dc-4cda-b0ac-f9a6732ece8a",
   "metadata": {},
   "outputs": [
    {
     "name": "stdout",
     "output_type": "stream",
     "text": [
      "42\n"
     ]
    }
   ],
   "source": [
    "# 0D array\n",
    "arr=np.array(42)\n",
    "print(arr)"
   ]
  },
  {
   "cell_type": "code",
   "execution_count": 89,
   "id": "b21a46a9-59b6-4755-80f7-2d01fda44a5d",
   "metadata": {},
   "outputs": [
    {
     "name": "stdout",
     "output_type": "stream",
     "text": [
      "[1 2 3 4 5 6]\n"
     ]
    }
   ],
   "source": [
    "# 1D array\n",
    "arr=np.array([1,2,3,4,5,6])\n",
    "print(arr)"
   ]
  },
  {
   "cell_type": "code",
   "execution_count": 90,
   "id": "15d07ce0-0a03-4ff9-a508-ce15057943f0",
   "metadata": {},
   "outputs": [
    {
     "name": "stdout",
     "output_type": "stream",
     "text": [
      "[[1 2 3]\n",
      " [4 5 6]]\n"
     ]
    }
   ],
   "source": [
    "# 2D array\n",
    "arr=np.array([[1,2,3],[4,5,6]])\n",
    "print(arr)"
   ]
  },
  {
   "cell_type": "code",
   "execution_count": 91,
   "id": "1796b00d-4a6a-4d27-acf9-13347bfd1c78",
   "metadata": {},
   "outputs": [
    {
     "name": "stdout",
     "output_type": "stream",
     "text": [
      "[[[1 2 3]\n",
      "  [4 5 6]]\n",
      "\n",
      " [[1 2 3]\n",
      "  [4 5 6]]]\n"
     ]
    }
   ],
   "source": [
    "# 3D array\n",
    "arr=np.array([[[1,2,3],[4,5,6]],[[1,2,3],[4,5,6]]])\n",
    "print(arr)"
   ]
  },
  {
   "cell_type": "code",
   "execution_count": 92,
   "id": "0f53638f-90ad-44e5-a011-87a12661bd1a",
   "metadata": {},
   "outputs": [
    {
     "name": "stdout",
     "output_type": "stream",
     "text": [
      "0\n",
      "1\n",
      "2\n",
      "3\n"
     ]
    }
   ],
   "source": [
    "# Check Dimensions\n",
    "a = np.array(42)\n",
    "b = np.array([1, 2, 3, 4, 5])\n",
    "c = np.array([[1, 2, 3], [4, 5, 6]])\n",
    "d = np.array([[[1, 2, 3], [4, 5, 6]], [[1, 2, 3], [4, 5, 6]]])\n",
    "\n",
    "print(a.ndim)\n",
    "print(b.ndim)\n",
    "print(c.ndim)\n",
    "print(d.ndim)"
   ]
  },
  {
   "cell_type": "code",
   "execution_count": 93,
   "id": "0300fa8f-5a84-4ced-a502-04543b276f6b",
   "metadata": {},
   "outputs": [
    {
     "name": "stdout",
     "output_type": "stream",
     "text": [
      "[[[[[1 2 3 4]]]]]\n",
      "5\n"
     ]
    }
   ],
   "source": [
    "arr = np.array([1, 2, 3, 4], ndmin=5)\n",
    "print(arr)\n",
    "print(arr.ndim)"
   ]
  },
  {
   "cell_type": "markdown",
   "id": "00d57062-55bf-4704-a2d5-fc74268398b4",
   "metadata": {},
   "source": [
    "# Accessing array elements: "
   ]
  },
  {
   "cell_type": "code",
   "execution_count": 94,
   "id": "da4ec4f4-f400-40e1-a0d7-6999f6d15c99",
   "metadata": {},
   "outputs": [
    {
     "name": "stdout",
     "output_type": "stream",
     "text": [
      "5\n",
      "9\n"
     ]
    }
   ],
   "source": [
    "# 1D Array\n",
    "nums=np.array([1,2,3,4,5])\n",
    "print(nums[1]+nums[2])\n",
    "\n",
    "# Last element => negative index\n",
    "print(nums[-2]+nums[-1])"
   ]
  },
  {
   "cell_type": "code",
   "execution_count": 95,
   "id": "85edc823-489b-4271-a5e0-955cfde18f26",
   "metadata": {},
   "outputs": [
    {
     "name": "stdout",
     "output_type": "stream",
     "text": [
      "9\n",
      "10\n"
     ]
    }
   ],
   "source": [
    "# 2D Array\n",
    "nums=np.array([[1,2,3,4,5],[6,7,8,9,10]])\n",
    "print(nums[1,3])\n",
    "\n",
    "# Last element => negative index\n",
    "print(nums[1,-1]) "
   ]
  },
  {
   "cell_type": "code",
   "execution_count": 96,
   "id": "72cfca67-2d12-471d-8c49-3a2f8812d562",
   "metadata": {},
   "outputs": [
    {
     "name": "stdout",
     "output_type": "stream",
     "text": [
      "[[[  1   2   3]\n",
      "  [  4   5   6]]\n",
      "\n",
      " [[ 10  20  30]\n",
      "  [100 200 300]]]\n",
      "\n",
      "Ans: 30\n"
     ]
    }
   ],
   "source": [
    "# 3D Array\n",
    "nums=np.array([[[1,2,3],[4,5,6]],[[10,20,30],[100,200,300]]])\n",
    "print(nums)\n",
    "print(\"\\nAns:\",nums[1,0,2])"
   ]
  },
  {
   "cell_type": "markdown",
   "id": "55f2fe01-ed23-4dd0-8e05-097694f06d6f",
   "metadata": {},
   "source": [
    "# Array Slicing:"
   ]
  },
  {
   "cell_type": "code",
   "execution_count": 97,
   "id": "03194573-c520-4239-bfd1-bcecea65748e",
   "metadata": {},
   "outputs": [
    {
     "name": "stdout",
     "output_type": "stream",
     "text": [
      "[1 2 3 4]\n",
      "[5 6 7]\n",
      "[1 2 3 4 5]\n",
      "[1 3 5]\n"
     ]
    }
   ],
   "source": [
    "# 1D Array\n",
    "v=np.array([1,2,3,4,5,6,7])\n",
    "print(v[:4])\n",
    "print(v[4:])\n",
    "print(v[:-2])\n",
    "\n",
    "# Step\n",
    "print(v[:5:2])"
   ]
  },
  {
   "cell_type": "code",
   "execution_count": 98,
   "id": "dfbebd33-eab3-48ca-adc8-60c7043ebe4c",
   "metadata": {},
   "outputs": [
    {
     "name": "stdout",
     "output_type": "stream",
     "text": [
      "[[2 3]\n",
      " [7 8]]\n",
      "[7]\n",
      "[7 8 9]\n",
      "[3 8]\n",
      "[[2 3 4]\n",
      " [7 8 9]]\n"
     ]
    }
   ],
   "source": [
    "# 2D Array\n",
    "v=np.array([[1, 2, 3, 4, 5], [6, 7, 8, 9, 10]])\n",
    "print(v[:,1:3])\n",
    "print(v[1,1:2])\n",
    "print(v[1,1:4])\n",
    "print(v[0:2,2])\n",
    "print(v[0:2,1:4])"
   ]
  },
  {
   "cell_type": "markdown",
   "id": "f9623233-9949-4512-a584-f0d9d8ee2810",
   "metadata": {},
   "source": [
    "# NumPy Data Types:"
   ]
  },
  {
   "cell_type": "code",
   "execution_count": 99,
   "id": "018664a2-a98d-41a0-876e-42bcc2b9698e",
   "metadata": {},
   "outputs": [
    {
     "name": "stdout",
     "output_type": "stream",
     "text": [
      "int32\n"
     ]
    }
   ],
   "source": [
    "# Checking datatypes\n",
    "print(v.dtype)"
   ]
  },
  {
   "cell_type": "code",
   "execution_count": 100,
   "id": "3b8f4b53-b468-4e54-972f-5da8fdaa9ebe",
   "metadata": {},
   "outputs": [
    {
     "name": "stdout",
     "output_type": "stream",
     "text": [
      "<U6\n"
     ]
    }
   ],
   "source": [
    "v=np.array(['apple', 'banana', 'cherry'])\n",
    "print(v.dtype)\n",
    "\n",
    "# U -> unicode string"
   ]
  },
  {
   "cell_type": "code",
   "execution_count": 102,
   "id": "f8341be1-f92c-4fd7-a18e-72c68b25daf2",
   "metadata": {},
   "outputs": [
    {
     "name": "stdout",
     "output_type": "stream",
     "text": [
      "[b'1' b'2' b'3' b'4']\n",
      "|S1\n"
     ]
    }
   ],
   "source": [
    "# Creating array with defined datatype\n",
    "\n",
    "# S-> String\n",
    "v=np.array([1,2,3,4],dtype='S')\n",
    "print(v)\n",
    "print(v.dtype)"
   ]
  },
  {
   "cell_type": "code",
   "execution_count": 104,
   "id": "498d18a2-fa65-477a-ae5c-416e50c9e667",
   "metadata": {},
   "outputs": [
    {
     "name": "stdout",
     "output_type": "stream",
     "text": [
      "[1 2 3 4]\n",
      "int32\n"
     ]
    }
   ],
   "source": [
    "v=np.array([1,2,3,4],dtype='i4')\n",
    "# i4 means integer of 4 bytes\n",
    "print(v)\n",
    "print(v.dtype)"
   ]
  },
  {
   "cell_type": "code",
   "execution_count": null,
   "id": "35d9462c-39d4-4aa7-aceb-9f2a1b310d9c",
   "metadata": {},
   "outputs": [],
   "source": [
    "# But what if this type"
   ]
  }
 ],
 "metadata": {
  "kernelspec": {
   "display_name": "Python 3 (ipykernel)",
   "language": "python",
   "name": "python3"
  },
  "language_info": {
   "codemirror_mode": {
    "name": "ipython",
    "version": 3
   },
   "file_extension": ".py",
   "mimetype": "text/x-python",
   "name": "python",
   "nbconvert_exporter": "python",
   "pygments_lexer": "ipython3",
   "version": "3.11.4"
  }
 },
 "nbformat": 4,
 "nbformat_minor": 5
}
